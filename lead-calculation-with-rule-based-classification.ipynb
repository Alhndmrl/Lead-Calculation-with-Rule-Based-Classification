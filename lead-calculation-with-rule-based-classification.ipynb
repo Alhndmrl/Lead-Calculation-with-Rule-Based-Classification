{
 "cells": [
  {
   "cell_type": "markdown",
   "id": "b2808537",
   "metadata": {
    "_kg_hide-input": false,
    "papermill": {
     "duration": 0.007501,
     "end_time": "2022-10-27T14:27:05.710225",
     "exception": false,
     "start_time": "2022-10-27T14:27:05.702724",
     "status": "completed"
    },
    "tags": []
   },
   "source": [
    "# Lead Calculation with Rule-Based Classification"
   ]
  },
  {
   "cell_type": "markdown",
   "id": "6c00ad16",
   "metadata": {
    "papermill": {
     "duration": 0.006269,
     "end_time": "2022-10-27T14:27:05.723199",
     "exception": false,
     "start_time": "2022-10-27T14:27:05.716930",
     "status": "completed"
    },
    "tags": []
   },
   "source": [
    "## Business Problem\n",
    "\n"
   ]
  },
  {
   "cell_type": "markdown",
   "id": "ad0446ad",
   "metadata": {
    "papermill": {
     "duration": 0.006183,
     "end_time": "2022-10-27T14:27:05.735765",
     "exception": false,
     "start_time": "2022-10-27T14:27:05.729582",
     "status": "completed"
    },
    "tags": []
   },
   "source": [
    "A game company wants to create new level-based customer definitions (personas) by using some features of its customers, and to create segments according to these new customerdefinitions and to estimate how much the new customers can earn on average according to these segments.\n",
    "\n",
    "### For example:\n",
    "It is desired to determine how much a 25-year-old male user from Turkey who is an IOS user can earn on average."
   ]
  },
  {
   "cell_type": "markdown",
   "id": "9a82e18a",
   "metadata": {
    "papermill": {
     "duration": 0.006122,
     "end_time": "2022-10-27T14:27:05.748305",
     "exception": false,
     "start_time": "2022-10-27T14:27:05.742183",
     "status": "completed"
    },
    "tags": []
   },
   "source": [
    "## Dataset Story\n",
    "\n",
    "The Persona.csv dataset contains the prices of the products sold by an international game company and some demographic information of the users who buy these products. The data set consists of records created in each sales transaction. This means table not singularized. In other words, a user with certain demographic characteristics may have made more than one purchase.\n",
    "\n",
    "Price: Customer's spending amount\n",
    "\n",
    "Source: The type of device the customer is connecting to\n",
    "\n",
    "Sex: Gender of the client\n",
    "\n",
    "Country: Country of the customer\n",
    "\n",
    "Age: Customer's age\n"
   ]
  },
  {
   "cell_type": "code",
   "execution_count": 1,
   "id": "89346e5c",
   "metadata": {
    "execution": {
     "iopub.execute_input": "2022-10-27T14:27:05.763020Z",
     "iopub.status.busy": "2022-10-27T14:27:05.762558Z",
     "iopub.status.idle": "2022-10-27T14:27:06.796552Z",
     "shell.execute_reply": "2022-10-27T14:27:06.795478Z"
    },
    "papermill": {
     "duration": 1.044559,
     "end_time": "2022-10-27T14:27:06.799242",
     "exception": false,
     "start_time": "2022-10-27T14:27:05.754683",
     "status": "completed"
    },
    "tags": []
   },
   "outputs": [],
   "source": [
    "#Necessary libraries are imported.\n",
    "import numpy as np\n",
    "import pandas as pd\n",
    "import matplotlib.pyplot as plt\n",
    "import seaborn as sns"
   ]
  },
  {
   "cell_type": "code",
   "execution_count": 2,
   "id": "7b82115b",
   "metadata": {
    "execution": {
     "iopub.execute_input": "2022-10-27T14:27:06.815322Z",
     "iopub.status.busy": "2022-10-27T14:27:06.814698Z",
     "iopub.status.idle": "2022-10-27T14:27:06.843208Z",
     "shell.execute_reply": "2022-10-27T14:27:06.841984Z"
    },
    "papermill": {
     "duration": 0.039873,
     "end_time": "2022-10-27T14:27:06.845648",
     "exception": false,
     "start_time": "2022-10-27T14:27:06.805775",
     "status": "completed"
    },
    "tags": []
   },
   "outputs": [],
   "source": [
    "df = pd.read_csv(\"../input/persona/persona.csv\")\n"
   ]
  },
  {
   "cell_type": "markdown",
   "id": "8914c660",
   "metadata": {
    "papermill": {
     "duration": 0.006709,
     "end_time": "2022-10-27T14:27:06.858963",
     "exception": false,
     "start_time": "2022-10-27T14:27:06.852254",
     "status": "completed"
    },
    "tags": []
   },
   "source": [
    "# 1.DATA OVERVİEW"
   ]
  },
  {
   "cell_type": "code",
   "execution_count": 3,
   "id": "8880e796",
   "metadata": {
    "execution": {
     "iopub.execute_input": "2022-10-27T14:27:06.874653Z",
     "iopub.status.busy": "2022-10-27T14:27:06.873953Z",
     "iopub.status.idle": "2022-10-27T14:27:06.881736Z",
     "shell.execute_reply": "2022-10-27T14:27:06.880531Z"
    },
    "papermill": {
     "duration": 0.018411,
     "end_time": "2022-10-27T14:27:06.884187",
     "exception": false,
     "start_time": "2022-10-27T14:27:06.865776",
     "status": "completed"
    },
    "tags": []
   },
   "outputs": [
    {
     "data": {
      "text/plain": [
       "(5000, 5)"
      ]
     },
     "execution_count": 3,
     "metadata": {},
     "output_type": "execute_result"
    }
   ],
   "source": [
    "#The number of unique values for each variable in the dataset is shown.\n",
    "df.shape"
   ]
  },
  {
   "cell_type": "code",
   "execution_count": 4,
   "id": "c95c4469",
   "metadata": {
    "execution": {
     "iopub.execute_input": "2022-10-27T14:27:06.899895Z",
     "iopub.status.busy": "2022-10-27T14:27:06.899226Z",
     "iopub.status.idle": "2022-10-27T14:27:06.917207Z",
     "shell.execute_reply": "2022-10-27T14:27:06.916237Z"
    },
    "papermill": {
     "duration": 0.02948,
     "end_time": "2022-10-27T14:27:06.920493",
     "exception": false,
     "start_time": "2022-10-27T14:27:06.891013",
     "status": "completed"
    },
    "tags": []
   },
   "outputs": [
    {
     "data": {
      "text/html": [
       "<div>\n",
       "<style scoped>\n",
       "    .dataframe tbody tr th:only-of-type {\n",
       "        vertical-align: middle;\n",
       "    }\n",
       "\n",
       "    .dataframe tbody tr th {\n",
       "        vertical-align: top;\n",
       "    }\n",
       "\n",
       "    .dataframe thead th {\n",
       "        text-align: right;\n",
       "    }\n",
       "</style>\n",
       "<table border=\"1\" class=\"dataframe\">\n",
       "  <thead>\n",
       "    <tr style=\"text-align: right;\">\n",
       "      <th></th>\n",
       "      <th>PRICE</th>\n",
       "      <th>SOURCE</th>\n",
       "      <th>SEX</th>\n",
       "      <th>COUNTRY</th>\n",
       "      <th>AGE</th>\n",
       "    </tr>\n",
       "  </thead>\n",
       "  <tbody>\n",
       "    <tr>\n",
       "      <th>0</th>\n",
       "      <td>39</td>\n",
       "      <td>android</td>\n",
       "      <td>male</td>\n",
       "      <td>bra</td>\n",
       "      <td>17</td>\n",
       "    </tr>\n",
       "    <tr>\n",
       "      <th>1</th>\n",
       "      <td>39</td>\n",
       "      <td>android</td>\n",
       "      <td>male</td>\n",
       "      <td>bra</td>\n",
       "      <td>17</td>\n",
       "    </tr>\n",
       "    <tr>\n",
       "      <th>2</th>\n",
       "      <td>49</td>\n",
       "      <td>android</td>\n",
       "      <td>male</td>\n",
       "      <td>bra</td>\n",
       "      <td>17</td>\n",
       "    </tr>\n",
       "    <tr>\n",
       "      <th>3</th>\n",
       "      <td>29</td>\n",
       "      <td>android</td>\n",
       "      <td>male</td>\n",
       "      <td>tur</td>\n",
       "      <td>17</td>\n",
       "    </tr>\n",
       "    <tr>\n",
       "      <th>4</th>\n",
       "      <td>49</td>\n",
       "      <td>android</td>\n",
       "      <td>male</td>\n",
       "      <td>tur</td>\n",
       "      <td>17</td>\n",
       "    </tr>\n",
       "  </tbody>\n",
       "</table>\n",
       "</div>"
      ],
      "text/plain": [
       "   PRICE   SOURCE   SEX COUNTRY  AGE\n",
       "0     39  android  male     bra   17\n",
       "1     39  android  male     bra   17\n",
       "2     49  android  male     bra   17\n",
       "3     29  android  male     tur   17\n",
       "4     49  android  male     tur   17"
      ]
     },
     "execution_count": 4,
     "metadata": {},
     "output_type": "execute_result"
    }
   ],
   "source": [
    "#The first 5 rows of the dataset were looked at.\n",
    "df.head()"
   ]
  },
  {
   "cell_type": "code",
   "execution_count": 5,
   "id": "70504d49",
   "metadata": {
    "execution": {
     "iopub.execute_input": "2022-10-27T14:27:06.936348Z",
     "iopub.status.busy": "2022-10-27T14:27:06.935967Z",
     "iopub.status.idle": "2022-10-27T14:27:06.947189Z",
     "shell.execute_reply": "2022-10-27T14:27:06.946442Z"
    },
    "papermill": {
     "duration": 0.021063,
     "end_time": "2022-10-27T14:27:06.948918",
     "exception": false,
     "start_time": "2022-10-27T14:27:06.927855",
     "status": "completed"
    },
    "tags": []
   },
   "outputs": [
    {
     "data": {
      "text/html": [
       "<div>\n",
       "<style scoped>\n",
       "    .dataframe tbody tr th:only-of-type {\n",
       "        vertical-align: middle;\n",
       "    }\n",
       "\n",
       "    .dataframe tbody tr th {\n",
       "        vertical-align: top;\n",
       "    }\n",
       "\n",
       "    .dataframe thead th {\n",
       "        text-align: right;\n",
       "    }\n",
       "</style>\n",
       "<table border=\"1\" class=\"dataframe\">\n",
       "  <thead>\n",
       "    <tr style=\"text-align: right;\">\n",
       "      <th></th>\n",
       "      <th>PRICE</th>\n",
       "      <th>SOURCE</th>\n",
       "      <th>SEX</th>\n",
       "      <th>COUNTRY</th>\n",
       "      <th>AGE</th>\n",
       "    </tr>\n",
       "  </thead>\n",
       "  <tbody>\n",
       "    <tr>\n",
       "      <th>4995</th>\n",
       "      <td>29</td>\n",
       "      <td>android</td>\n",
       "      <td>female</td>\n",
       "      <td>bra</td>\n",
       "      <td>31</td>\n",
       "    </tr>\n",
       "    <tr>\n",
       "      <th>4996</th>\n",
       "      <td>29</td>\n",
       "      <td>android</td>\n",
       "      <td>female</td>\n",
       "      <td>bra</td>\n",
       "      <td>31</td>\n",
       "    </tr>\n",
       "    <tr>\n",
       "      <th>4997</th>\n",
       "      <td>29</td>\n",
       "      <td>android</td>\n",
       "      <td>female</td>\n",
       "      <td>bra</td>\n",
       "      <td>31</td>\n",
       "    </tr>\n",
       "    <tr>\n",
       "      <th>4998</th>\n",
       "      <td>39</td>\n",
       "      <td>android</td>\n",
       "      <td>female</td>\n",
       "      <td>bra</td>\n",
       "      <td>31</td>\n",
       "    </tr>\n",
       "    <tr>\n",
       "      <th>4999</th>\n",
       "      <td>29</td>\n",
       "      <td>android</td>\n",
       "      <td>female</td>\n",
       "      <td>bra</td>\n",
       "      <td>31</td>\n",
       "    </tr>\n",
       "  </tbody>\n",
       "</table>\n",
       "</div>"
      ],
      "text/plain": [
       "      PRICE   SOURCE     SEX COUNTRY  AGE\n",
       "4995     29  android  female     bra   31\n",
       "4996     29  android  female     bra   31\n",
       "4997     29  android  female     bra   31\n",
       "4998     39  android  female     bra   31\n",
       "4999     29  android  female     bra   31"
      ]
     },
     "execution_count": 5,
     "metadata": {},
     "output_type": "execute_result"
    }
   ],
   "source": [
    "#The last 5 rows of the dataset were viewed.\n",
    "df.tail()"
   ]
  },
  {
   "cell_type": "code",
   "execution_count": 6,
   "id": "e881c4c5",
   "metadata": {
    "execution": {
     "iopub.execute_input": "2022-10-27T14:27:06.965359Z",
     "iopub.status.busy": "2022-10-27T14:27:06.964835Z",
     "iopub.status.idle": "2022-10-27T14:27:06.991796Z",
     "shell.execute_reply": "2022-10-27T14:27:06.990306Z"
    },
    "papermill": {
     "duration": 0.038073,
     "end_time": "2022-10-27T14:27:06.994082",
     "exception": false,
     "start_time": "2022-10-27T14:27:06.956009",
     "status": "completed"
    },
    "tags": []
   },
   "outputs": [
    {
     "name": "stdout",
     "output_type": "stream",
     "text": [
      "<class 'pandas.core.frame.DataFrame'>\n",
      "Int64Index: 5000 entries, 0 to 4999\n",
      "Data columns (total 5 columns):\n",
      " #   Column   Non-Null Count  Dtype \n",
      "---  ------   --------------  ----- \n",
      " 0   PRICE    5000 non-null   int64 \n",
      " 1   SOURCE   5000 non-null   object\n",
      " 2   SEX      5000 non-null   object\n",
      " 3   COUNTRY  5000 non-null   object\n",
      " 4   AGE      5000 non-null   int64 \n",
      "dtypes: int64(2), object(3)\n",
      "memory usage: 234.4+ KB\n"
     ]
    }
   ],
   "source": [
    "#Variable types and numbers of the data set were examined.\n",
    "df.info()"
   ]
  },
  {
   "cell_type": "code",
   "execution_count": 7,
   "id": "2cd7d111",
   "metadata": {
    "execution": {
     "iopub.execute_input": "2022-10-27T14:27:07.010537Z",
     "iopub.status.busy": "2022-10-27T14:27:07.010156Z",
     "iopub.status.idle": "2022-10-27T14:27:07.019101Z",
     "shell.execute_reply": "2022-10-27T14:27:07.018158Z"
    },
    "papermill": {
     "duration": 0.019503,
     "end_time": "2022-10-27T14:27:07.021107",
     "exception": false,
     "start_time": "2022-10-27T14:27:07.001604",
     "status": "completed"
    },
    "tags": []
   },
   "outputs": [
    {
     "data": {
      "text/plain": [
       "PRICE      0\n",
       "SOURCE     0\n",
       "SEX        0\n",
       "COUNTRY    0\n",
       "AGE        0\n",
       "dtype: int64"
      ]
     },
     "execution_count": 7,
     "metadata": {},
     "output_type": "execute_result"
    }
   ],
   "source": [
    "#It was checked for missing data in the dataset.\n",
    "df.isnull().sum()"
   ]
  },
  {
   "cell_type": "code",
   "execution_count": 8,
   "id": "74c47595",
   "metadata": {
    "execution": {
     "iopub.execute_input": "2022-10-27T14:27:07.039273Z",
     "iopub.status.busy": "2022-10-27T14:27:07.038772Z",
     "iopub.status.idle": "2022-10-27T14:27:07.064784Z",
     "shell.execute_reply": "2022-10-27T14:27:07.063447Z"
    },
    "papermill": {
     "duration": 0.038235,
     "end_time": "2022-10-27T14:27:07.067618",
     "exception": false,
     "start_time": "2022-10-27T14:27:07.029383",
     "status": "completed"
    },
    "tags": []
   },
   "outputs": [
    {
     "data": {
      "text/html": [
       "<div>\n",
       "<style scoped>\n",
       "    .dataframe tbody tr th:only-of-type {\n",
       "        vertical-align: middle;\n",
       "    }\n",
       "\n",
       "    .dataframe tbody tr th {\n",
       "        vertical-align: top;\n",
       "    }\n",
       "\n",
       "    .dataframe thead th {\n",
       "        text-align: right;\n",
       "    }\n",
       "</style>\n",
       "<table border=\"1\" class=\"dataframe\">\n",
       "  <thead>\n",
       "    <tr style=\"text-align: right;\">\n",
       "      <th></th>\n",
       "      <th>count</th>\n",
       "      <th>mean</th>\n",
       "      <th>std</th>\n",
       "      <th>min</th>\n",
       "      <th>25%</th>\n",
       "      <th>50%</th>\n",
       "      <th>75%</th>\n",
       "      <th>max</th>\n",
       "    </tr>\n",
       "  </thead>\n",
       "  <tbody>\n",
       "    <tr>\n",
       "      <th>PRICE</th>\n",
       "      <td>5000.0</td>\n",
       "      <td>34.1320</td>\n",
       "      <td>12.464897</td>\n",
       "      <td>9.0</td>\n",
       "      <td>29.0</td>\n",
       "      <td>39.0</td>\n",
       "      <td>39.0</td>\n",
       "      <td>59.0</td>\n",
       "    </tr>\n",
       "    <tr>\n",
       "      <th>AGE</th>\n",
       "      <td>5000.0</td>\n",
       "      <td>23.5814</td>\n",
       "      <td>8.995908</td>\n",
       "      <td>15.0</td>\n",
       "      <td>17.0</td>\n",
       "      <td>21.0</td>\n",
       "      <td>27.0</td>\n",
       "      <td>66.0</td>\n",
       "    </tr>\n",
       "  </tbody>\n",
       "</table>\n",
       "</div>"
      ],
      "text/plain": [
       "        count     mean        std   min   25%   50%   75%   max\n",
       "PRICE  5000.0  34.1320  12.464897   9.0  29.0  39.0  39.0  59.0\n",
       "AGE    5000.0  23.5814   8.995908  15.0  17.0  21.0  27.0  66.0"
      ]
     },
     "execution_count": 8,
     "metadata": {},
     "output_type": "execute_result"
    }
   ],
   "source": [
    "#The statistical properties of the columns of the data set containing numeric data were checked.\n",
    "df.describe().T"
   ]
  },
  {
   "cell_type": "code",
   "execution_count": 9,
   "id": "318cce9c",
   "metadata": {
    "execution": {
     "iopub.execute_input": "2022-10-27T14:27:07.084814Z",
     "iopub.status.busy": "2022-10-27T14:27:07.084408Z",
     "iopub.status.idle": "2022-10-27T14:27:07.098205Z",
     "shell.execute_reply": "2022-10-27T14:27:07.097010Z"
    },
    "papermill": {
     "duration": 0.025284,
     "end_time": "2022-10-27T14:27:07.100600",
     "exception": false,
     "start_time": "2022-10-27T14:27:07.075316",
     "status": "completed"
    },
    "tags": []
   },
   "outputs": [
    {
     "data": {
      "text/plain": [
       "PRICE       6\n",
       "SOURCE      2\n",
       "SEX         2\n",
       "COUNTRY     6\n",
       "AGE        46\n",
       "dtype: int64"
      ]
     },
     "execution_count": 9,
     "metadata": {},
     "output_type": "execute_result"
    }
   ],
   "source": [
    "#The number of unique values for each variable in the dataset was looked at.\n",
    "df.nunique()"
   ]
  },
  {
   "cell_type": "markdown",
   "id": "31b7f2f9",
   "metadata": {
    "papermill": {
     "duration": 0.008122,
     "end_time": "2022-10-27T14:27:07.116413",
     "exception": false,
     "start_time": "2022-10-27T14:27:07.108291",
     "status": "completed"
    },
    "tags": []
   },
   "source": [
    "# 2.DATA MANIPULATION"
   ]
  },
  {
   "cell_type": "code",
   "execution_count": 10,
   "id": "41afa4d1",
   "metadata": {
    "execution": {
     "iopub.execute_input": "2022-10-27T14:27:07.133716Z",
     "iopub.status.busy": "2022-10-27T14:27:07.133325Z",
     "iopub.status.idle": "2022-10-27T14:27:07.148955Z",
     "shell.execute_reply": "2022-10-27T14:27:07.147111Z"
    },
    "papermill": {
     "duration": 0.027811,
     "end_time": "2022-10-27T14:27:07.152027",
     "exception": false,
     "start_time": "2022-10-27T14:27:07.124216",
     "status": "completed"
    },
    "tags": []
   },
   "outputs": [
    {
     "name": "stdout",
     "output_type": "stream",
     "text": [
      "Observations: 5000\n",
      "Variables: 5\n",
      "cat_cols: 3\n",
      "num_cols: 2\n",
      "cat_but_car: 0\n",
      "num_but_cat: 0\n"
     ]
    }
   ],
   "source": [
    "\"\"\"\n",
    "The dataset variables are examined to ensure their data types. Some numerical variables can be treated as categorical if they have\n",
    "low unique value counts and similarly some categorical variables can have high unique value counts so they are treated as cardinal\n",
    "variables. For this application variable_catcher function is written\n",
    "\"\"\"\n",
    "\n",
    "def catcher(dataframe, cat_threshold = 5, car_threshold = 10):\n",
    "    \n",
    "    # To catch categorical variables\n",
    "    cat_cols = [col for col in dataframe.columns if str(dataframe[col].dtype) in [\"object\",\"category\",\"bool\"]]\n",
    "    num_but_cat = [col for col in dataframe.columns if dataframe[col].nunique() < cat_threshold and \n",
    "                   str(dataframe[col].dtype) in [\"int64\",\"float64\"]]\n",
    "    cat_but_car = [col for col in dataframe.columns if dataframe[col].nunique() > car_threshold and \n",
    "                   str(dataframe[col].dtype) in [\"object\",\"category\"]]\n",
    "    cat_cols = cat_cols + num_but_cat\n",
    "    cat_cols = [col for col in cat_cols if col not in cat_but_car]\n",
    "    \n",
    "    # To catch numerical variables\n",
    "    num_cols = [col for col in dataframe.columns if dataframe[col].dtype in [\"int64\", \"float64\"]]\n",
    "    num_cols = [col for col in num_cols if col not in cat_cols]\n",
    "    \n",
    "    print(f\"Observations: {dataframe.shape[0]}\")\n",
    "    print(f\"Variables: {dataframe.shape[1]}\")\n",
    "    print(f'cat_cols: {len(cat_cols)}')\n",
    "    print(f'num_cols: {len(num_cols)}')\n",
    "    print(f'cat_but_car: {len(cat_but_car)}')\n",
    "    print(f'num_but_cat: {len(num_but_cat)}')\n",
    "    \n",
    "    return cat_cols, num_cols, cat_but_car\n",
    "\n",
    "\n",
    "cat_cols, num_cols, cat_but_car = catcher(df)"
   ]
  },
  {
   "cell_type": "code",
   "execution_count": 11,
   "id": "716d6fe5",
   "metadata": {
    "execution": {
     "iopub.execute_input": "2022-10-27T14:27:07.169506Z",
     "iopub.status.busy": "2022-10-27T14:27:07.169149Z",
     "iopub.status.idle": "2022-10-27T14:27:07.179216Z",
     "shell.execute_reply": "2022-10-27T14:27:07.178353Z"
    },
    "papermill": {
     "duration": 0.021549,
     "end_time": "2022-10-27T14:27:07.181390",
     "exception": false,
     "start_time": "2022-10-27T14:27:07.159841",
     "status": "completed"
    },
    "tags": []
   },
   "outputs": [
    {
     "data": {
      "text/plain": [
       "android    0.5948\n",
       "ios        0.4052\n",
       "Name: SOURCE, dtype: float64"
      ]
     },
     "execution_count": 11,
     "metadata": {},
     "output_type": "execute_result"
    }
   ],
   "source": [
    "#It shows the frequency values of the type of device that the customer is connected to.\n",
    "df[\"SOURCE\"].value_counts(normalize = True)"
   ]
  },
  {
   "cell_type": "code",
   "execution_count": 12,
   "id": "f61d1443",
   "metadata": {
    "execution": {
     "iopub.execute_input": "2022-10-27T14:27:07.199583Z",
     "iopub.status.busy": "2022-10-27T14:27:07.198602Z",
     "iopub.status.idle": "2022-10-27T14:27:07.211977Z",
     "shell.execute_reply": "2022-10-27T14:27:07.210581Z"
    },
    "papermill": {
     "duration": 0.025958,
     "end_time": "2022-10-27T14:27:07.215427",
     "exception": false,
     "start_time": "2022-10-27T14:27:07.189469",
     "status": "completed"
    },
    "tags": []
   },
   "outputs": [
    {
     "data": {
      "text/html": [
       "<div>\n",
       "<style scoped>\n",
       "    .dataframe tbody tr th:only-of-type {\n",
       "        vertical-align: middle;\n",
       "    }\n",
       "\n",
       "    .dataframe tbody tr th {\n",
       "        vertical-align: top;\n",
       "    }\n",
       "\n",
       "    .dataframe thead th {\n",
       "        text-align: right;\n",
       "    }\n",
       "</style>\n",
       "<table border=\"1\" class=\"dataframe\">\n",
       "  <thead>\n",
       "    <tr style=\"text-align: right;\">\n",
       "      <th></th>\n",
       "      <th>PRICE</th>\n",
       "    </tr>\n",
       "    <tr>\n",
       "      <th>COUNTRY</th>\n",
       "      <th></th>\n",
       "    </tr>\n",
       "  </thead>\n",
       "  <tbody>\n",
       "    <tr>\n",
       "      <th>bra</th>\n",
       "      <td>1496</td>\n",
       "    </tr>\n",
       "    <tr>\n",
       "      <th>can</th>\n",
       "      <td>230</td>\n",
       "    </tr>\n",
       "    <tr>\n",
       "      <th>deu</th>\n",
       "      <td>455</td>\n",
       "    </tr>\n",
       "    <tr>\n",
       "      <th>fra</th>\n",
       "      <td>303</td>\n",
       "    </tr>\n",
       "    <tr>\n",
       "      <th>tur</th>\n",
       "      <td>451</td>\n",
       "    </tr>\n",
       "    <tr>\n",
       "      <th>usa</th>\n",
       "      <td>2065</td>\n",
       "    </tr>\n",
       "  </tbody>\n",
       "</table>\n",
       "</div>"
      ],
      "text/plain": [
       "         PRICE\n",
       "COUNTRY       \n",
       "bra       1496\n",
       "can        230\n",
       "deu        455\n",
       "fra        303\n",
       "tur        451\n",
       "usa       2065"
      ]
     },
     "execution_count": 12,
     "metadata": {},
     "output_type": "execute_result"
    }
   ],
   "source": [
    "#The number of sales by country is shown.\n",
    "df.groupby(\"COUNTRY\").agg ({\"PRICE\":\"count\"})"
   ]
  },
  {
   "cell_type": "code",
   "execution_count": 13,
   "id": "187876dd",
   "metadata": {
    "execution": {
     "iopub.execute_input": "2022-10-27T14:27:07.236207Z",
     "iopub.status.busy": "2022-10-27T14:27:07.235825Z",
     "iopub.status.idle": "2022-10-27T14:27:07.253593Z",
     "shell.execute_reply": "2022-10-27T14:27:07.252065Z"
    },
    "papermill": {
     "duration": 0.031221,
     "end_time": "2022-10-27T14:27:07.255983",
     "exception": false,
     "start_time": "2022-10-27T14:27:07.224762",
     "status": "completed"
    },
    "tags": []
   },
   "outputs": [
    {
     "data": {
      "text/html": [
       "<div>\n",
       "<style scoped>\n",
       "    .dataframe tbody tr th:only-of-type {\n",
       "        vertical-align: middle;\n",
       "    }\n",
       "\n",
       "    .dataframe tbody tr th {\n",
       "        vertical-align: top;\n",
       "    }\n",
       "\n",
       "    .dataframe thead tr th {\n",
       "        text-align: left;\n",
       "    }\n",
       "\n",
       "    .dataframe thead tr:last-of-type th {\n",
       "        text-align: right;\n",
       "    }\n",
       "</style>\n",
       "<table border=\"1\" class=\"dataframe\">\n",
       "  <thead>\n",
       "    <tr>\n",
       "      <th></th>\n",
       "      <th colspan=\"2\" halign=\"left\">PRICE</th>\n",
       "    </tr>\n",
       "    <tr>\n",
       "      <th></th>\n",
       "      <th>sum</th>\n",
       "      <th>mean</th>\n",
       "    </tr>\n",
       "    <tr>\n",
       "      <th>COUNTRY</th>\n",
       "      <th></th>\n",
       "      <th></th>\n",
       "    </tr>\n",
       "  </thead>\n",
       "  <tbody>\n",
       "    <tr>\n",
       "      <th>bra</th>\n",
       "      <td>51354</td>\n",
       "      <td>34.327540</td>\n",
       "    </tr>\n",
       "    <tr>\n",
       "      <th>can</th>\n",
       "      <td>7730</td>\n",
       "      <td>33.608696</td>\n",
       "    </tr>\n",
       "    <tr>\n",
       "      <th>deu</th>\n",
       "      <td>15485</td>\n",
       "      <td>34.032967</td>\n",
       "    </tr>\n",
       "    <tr>\n",
       "      <th>fra</th>\n",
       "      <td>10177</td>\n",
       "      <td>33.587459</td>\n",
       "    </tr>\n",
       "    <tr>\n",
       "      <th>tur</th>\n",
       "      <td>15689</td>\n",
       "      <td>34.787140</td>\n",
       "    </tr>\n",
       "    <tr>\n",
       "      <th>usa</th>\n",
       "      <td>70225</td>\n",
       "      <td>34.007264</td>\n",
       "    </tr>\n",
       "  </tbody>\n",
       "</table>\n",
       "</div>"
      ],
      "text/plain": [
       "         PRICE           \n",
       "           sum       mean\n",
       "COUNTRY                  \n",
       "bra      51354  34.327540\n",
       "can       7730  33.608696\n",
       "deu      15485  34.032967\n",
       "fra      10177  33.587459\n",
       "tur      15689  34.787140\n",
       "usa      70225  34.007264"
      ]
     },
     "execution_count": 13,
     "metadata": {},
     "output_type": "execute_result"
    }
   ],
   "source": [
    "#The average amount and total earnings of the countries from the sale are shown.\n",
    "df.groupby(\"COUNTRY\",).agg ({\"PRICE\":[\"sum\",\"mean\"]})"
   ]
  },
  {
   "cell_type": "code",
   "execution_count": 14,
   "id": "52bd4a15",
   "metadata": {
    "execution": {
     "iopub.execute_input": "2022-10-27T14:27:07.273209Z",
     "iopub.status.busy": "2022-10-27T14:27:07.272791Z",
     "iopub.status.idle": "2022-10-27T14:27:07.293904Z",
     "shell.execute_reply": "2022-10-27T14:27:07.292959Z"
    },
    "papermill": {
     "duration": 0.031949,
     "end_time": "2022-10-27T14:27:07.295754",
     "exception": false,
     "start_time": "2022-10-27T14:27:07.263805",
     "status": "completed"
    },
    "tags": []
   },
   "outputs": [
    {
     "data": {
      "text/html": [
       "<div>\n",
       "<style scoped>\n",
       "    .dataframe tbody tr th:only-of-type {\n",
       "        vertical-align: middle;\n",
       "    }\n",
       "\n",
       "    .dataframe tbody tr th {\n",
       "        vertical-align: top;\n",
       "    }\n",
       "\n",
       "    .dataframe thead th {\n",
       "        text-align: right;\n",
       "    }\n",
       "</style>\n",
       "<table border=\"1\" class=\"dataframe\">\n",
       "  <thead>\n",
       "    <tr style=\"text-align: right;\">\n",
       "      <th></th>\n",
       "      <th></th>\n",
       "      <th></th>\n",
       "      <th></th>\n",
       "      <th>PRICE</th>\n",
       "    </tr>\n",
       "    <tr>\n",
       "      <th>COUNTRY</th>\n",
       "      <th>SOURCE</th>\n",
       "      <th>SEX</th>\n",
       "      <th>AGE</th>\n",
       "      <th></th>\n",
       "    </tr>\n",
       "  </thead>\n",
       "  <tbody>\n",
       "    <tr>\n",
       "      <th rowspan=\"5\" valign=\"top\">bra</th>\n",
       "      <th rowspan=\"5\" valign=\"top\">android</th>\n",
       "      <th rowspan=\"5\" valign=\"top\">female</th>\n",
       "      <th>15</th>\n",
       "      <td>38.714286</td>\n",
       "    </tr>\n",
       "    <tr>\n",
       "      <th>16</th>\n",
       "      <td>35.944444</td>\n",
       "    </tr>\n",
       "    <tr>\n",
       "      <th>17</th>\n",
       "      <td>35.666667</td>\n",
       "    </tr>\n",
       "    <tr>\n",
       "      <th>18</th>\n",
       "      <td>32.255814</td>\n",
       "    </tr>\n",
       "    <tr>\n",
       "      <th>19</th>\n",
       "      <td>35.206897</td>\n",
       "    </tr>\n",
       "    <tr>\n",
       "      <th>...</th>\n",
       "      <th>...</th>\n",
       "      <th>...</th>\n",
       "      <th>...</th>\n",
       "      <td>...</td>\n",
       "    </tr>\n",
       "    <tr>\n",
       "      <th rowspan=\"5\" valign=\"top\">usa</th>\n",
       "      <th rowspan=\"5\" valign=\"top\">ios</th>\n",
       "      <th rowspan=\"5\" valign=\"top\">male</th>\n",
       "      <th>42</th>\n",
       "      <td>30.250000</td>\n",
       "    </tr>\n",
       "    <tr>\n",
       "      <th>50</th>\n",
       "      <td>39.000000</td>\n",
       "    </tr>\n",
       "    <tr>\n",
       "      <th>53</th>\n",
       "      <td>34.000000</td>\n",
       "    </tr>\n",
       "    <tr>\n",
       "      <th>55</th>\n",
       "      <td>29.000000</td>\n",
       "    </tr>\n",
       "    <tr>\n",
       "      <th>59</th>\n",
       "      <td>46.500000</td>\n",
       "    </tr>\n",
       "  </tbody>\n",
       "</table>\n",
       "<p>348 rows × 1 columns</p>\n",
       "</div>"
      ],
      "text/plain": [
       "                                PRICE\n",
       "COUNTRY SOURCE  SEX    AGE           \n",
       "bra     android female 15   38.714286\n",
       "                       16   35.944444\n",
       "                       17   35.666667\n",
       "                       18   32.255814\n",
       "                       19   35.206897\n",
       "...                               ...\n",
       "usa     ios     male   42   30.250000\n",
       "                       50   39.000000\n",
       "                       53   34.000000\n",
       "                       55   29.000000\n",
       "                       59   46.500000\n",
       "\n",
       "[348 rows x 1 columns]"
      ]
     },
     "execution_count": 14,
     "metadata": {},
     "output_type": "execute_result"
    }
   ],
   "source": [
    "## An aggregated dataframe is created that shows mean price values grouped by (\"COUNTRY\",\"SOURCE\",\"SEX\",\"AGE\") variables.\n",
    "agg_df = df.groupby([\"COUNTRY\",\"SOURCE\",\"SEX\",\"AGE\"]).agg ({\"PRICE\":\"mean\"}).copy()\n",
    "agg_df"
   ]
  },
  {
   "cell_type": "code",
   "execution_count": 15,
   "id": "a4a00071",
   "metadata": {
    "execution": {
     "iopub.execute_input": "2022-10-27T14:27:07.318506Z",
     "iopub.status.busy": "2022-10-27T14:27:07.318114Z",
     "iopub.status.idle": "2022-10-27T14:27:07.335607Z",
     "shell.execute_reply": "2022-10-27T14:27:07.334716Z"
    },
    "papermill": {
     "duration": 0.032467,
     "end_time": "2022-10-27T14:27:07.337643",
     "exception": false,
     "start_time": "2022-10-27T14:27:07.305176",
     "status": "completed"
    },
    "tags": []
   },
   "outputs": [
    {
     "data": {
      "text/html": [
       "<div>\n",
       "<style scoped>\n",
       "    .dataframe tbody tr th:only-of-type {\n",
       "        vertical-align: middle;\n",
       "    }\n",
       "\n",
       "    .dataframe tbody tr th {\n",
       "        vertical-align: top;\n",
       "    }\n",
       "\n",
       "    .dataframe thead th {\n",
       "        text-align: right;\n",
       "    }\n",
       "</style>\n",
       "<table border=\"1\" class=\"dataframe\">\n",
       "  <thead>\n",
       "    <tr style=\"text-align: right;\">\n",
       "      <th></th>\n",
       "      <th>COUNTRY</th>\n",
       "      <th>SOURCE</th>\n",
       "      <th>SEX</th>\n",
       "      <th>AGE</th>\n",
       "      <th>PRICE</th>\n",
       "    </tr>\n",
       "  </thead>\n",
       "  <tbody>\n",
       "    <tr>\n",
       "      <th>0</th>\n",
       "      <td>bra</td>\n",
       "      <td>android</td>\n",
       "      <td>female</td>\n",
       "      <td>15</td>\n",
       "      <td>38.714286</td>\n",
       "    </tr>\n",
       "    <tr>\n",
       "      <th>1</th>\n",
       "      <td>bra</td>\n",
       "      <td>android</td>\n",
       "      <td>female</td>\n",
       "      <td>16</td>\n",
       "      <td>35.944444</td>\n",
       "    </tr>\n",
       "    <tr>\n",
       "      <th>2</th>\n",
       "      <td>bra</td>\n",
       "      <td>android</td>\n",
       "      <td>female</td>\n",
       "      <td>17</td>\n",
       "      <td>35.666667</td>\n",
       "    </tr>\n",
       "    <tr>\n",
       "      <th>3</th>\n",
       "      <td>bra</td>\n",
       "      <td>android</td>\n",
       "      <td>female</td>\n",
       "      <td>18</td>\n",
       "      <td>32.255814</td>\n",
       "    </tr>\n",
       "    <tr>\n",
       "      <th>4</th>\n",
       "      <td>bra</td>\n",
       "      <td>android</td>\n",
       "      <td>female</td>\n",
       "      <td>19</td>\n",
       "      <td>35.206897</td>\n",
       "    </tr>\n",
       "    <tr>\n",
       "      <th>...</th>\n",
       "      <td>...</td>\n",
       "      <td>...</td>\n",
       "      <td>...</td>\n",
       "      <td>...</td>\n",
       "      <td>...</td>\n",
       "    </tr>\n",
       "    <tr>\n",
       "      <th>343</th>\n",
       "      <td>usa</td>\n",
       "      <td>ios</td>\n",
       "      <td>male</td>\n",
       "      <td>42</td>\n",
       "      <td>30.250000</td>\n",
       "    </tr>\n",
       "    <tr>\n",
       "      <th>344</th>\n",
       "      <td>usa</td>\n",
       "      <td>ios</td>\n",
       "      <td>male</td>\n",
       "      <td>50</td>\n",
       "      <td>39.000000</td>\n",
       "    </tr>\n",
       "    <tr>\n",
       "      <th>345</th>\n",
       "      <td>usa</td>\n",
       "      <td>ios</td>\n",
       "      <td>male</td>\n",
       "      <td>53</td>\n",
       "      <td>34.000000</td>\n",
       "    </tr>\n",
       "    <tr>\n",
       "      <th>346</th>\n",
       "      <td>usa</td>\n",
       "      <td>ios</td>\n",
       "      <td>male</td>\n",
       "      <td>55</td>\n",
       "      <td>29.000000</td>\n",
       "    </tr>\n",
       "    <tr>\n",
       "      <th>347</th>\n",
       "      <td>usa</td>\n",
       "      <td>ios</td>\n",
       "      <td>male</td>\n",
       "      <td>59</td>\n",
       "      <td>46.500000</td>\n",
       "    </tr>\n",
       "  </tbody>\n",
       "</table>\n",
       "<p>348 rows × 5 columns</p>\n",
       "</div>"
      ],
      "text/plain": [
       "    COUNTRY   SOURCE     SEX  AGE      PRICE\n",
       "0       bra  android  female   15  38.714286\n",
       "1       bra  android  female   16  35.944444\n",
       "2       bra  android  female   17  35.666667\n",
       "3       bra  android  female   18  32.255814\n",
       "4       bra  android  female   19  35.206897\n",
       "..      ...      ...     ...  ...        ...\n",
       "343     usa      ios    male   42  30.250000\n",
       "344     usa      ios    male   50  39.000000\n",
       "345     usa      ios    male   53  34.000000\n",
       "346     usa      ios    male   55  29.000000\n",
       "347     usa      ios    male   59  46.500000\n",
       "\n",
       "[348 rows x 5 columns]"
      ]
     },
     "execution_count": 15,
     "metadata": {},
     "output_type": "execute_result"
    }
   ],
   "source": [
    "#Convert the names in the index to variable names.\n",
    "agg_df.reset_index(inplace=True)\n",
    "agg_df"
   ]
  },
  {
   "cell_type": "code",
   "execution_count": 16,
   "id": "9e2a592f",
   "metadata": {
    "execution": {
     "iopub.execute_input": "2022-10-27T14:27:07.359094Z",
     "iopub.status.busy": "2022-10-27T14:27:07.358689Z",
     "iopub.status.idle": "2022-10-27T14:27:07.379252Z",
     "shell.execute_reply": "2022-10-27T14:27:07.378221Z"
    },
    "papermill": {
     "duration": 0.033826,
     "end_time": "2022-10-27T14:27:07.381286",
     "exception": false,
     "start_time": "2022-10-27T14:27:07.347460",
     "status": "completed"
    },
    "tags": []
   },
   "outputs": [
    {
     "data": {
      "text/html": [
       "<div>\n",
       "<style scoped>\n",
       "    .dataframe tbody tr th:only-of-type {\n",
       "        vertical-align: middle;\n",
       "    }\n",
       "\n",
       "    .dataframe tbody tr th {\n",
       "        vertical-align: top;\n",
       "    }\n",
       "\n",
       "    .dataframe thead th {\n",
       "        text-align: right;\n",
       "    }\n",
       "</style>\n",
       "<table border=\"1\" class=\"dataframe\">\n",
       "  <thead>\n",
       "    <tr style=\"text-align: right;\">\n",
       "      <th></th>\n",
       "      <th>COUNTRY</th>\n",
       "      <th>SOURCE</th>\n",
       "      <th>SEX</th>\n",
       "      <th>AGE</th>\n",
       "      <th>PRICE</th>\n",
       "      <th>AGE CAT</th>\n",
       "    </tr>\n",
       "  </thead>\n",
       "  <tbody>\n",
       "    <tr>\n",
       "      <th>0</th>\n",
       "      <td>bra</td>\n",
       "      <td>android</td>\n",
       "      <td>female</td>\n",
       "      <td>15</td>\n",
       "      <td>38.714286</td>\n",
       "      <td>0_18</td>\n",
       "    </tr>\n",
       "    <tr>\n",
       "      <th>1</th>\n",
       "      <td>bra</td>\n",
       "      <td>android</td>\n",
       "      <td>female</td>\n",
       "      <td>16</td>\n",
       "      <td>35.944444</td>\n",
       "      <td>0_18</td>\n",
       "    </tr>\n",
       "    <tr>\n",
       "      <th>2</th>\n",
       "      <td>bra</td>\n",
       "      <td>android</td>\n",
       "      <td>female</td>\n",
       "      <td>17</td>\n",
       "      <td>35.666667</td>\n",
       "      <td>0_18</td>\n",
       "    </tr>\n",
       "    <tr>\n",
       "      <th>3</th>\n",
       "      <td>bra</td>\n",
       "      <td>android</td>\n",
       "      <td>female</td>\n",
       "      <td>18</td>\n",
       "      <td>32.255814</td>\n",
       "      <td>0_18</td>\n",
       "    </tr>\n",
       "    <tr>\n",
       "      <th>4</th>\n",
       "      <td>bra</td>\n",
       "      <td>android</td>\n",
       "      <td>female</td>\n",
       "      <td>19</td>\n",
       "      <td>35.206897</td>\n",
       "      <td>19_23</td>\n",
       "    </tr>\n",
       "    <tr>\n",
       "      <th>...</th>\n",
       "      <td>...</td>\n",
       "      <td>...</td>\n",
       "      <td>...</td>\n",
       "      <td>...</td>\n",
       "      <td>...</td>\n",
       "      <td>...</td>\n",
       "    </tr>\n",
       "    <tr>\n",
       "      <th>343</th>\n",
       "      <td>usa</td>\n",
       "      <td>ios</td>\n",
       "      <td>male</td>\n",
       "      <td>42</td>\n",
       "      <td>30.250000</td>\n",
       "      <td>41_70</td>\n",
       "    </tr>\n",
       "    <tr>\n",
       "      <th>344</th>\n",
       "      <td>usa</td>\n",
       "      <td>ios</td>\n",
       "      <td>male</td>\n",
       "      <td>50</td>\n",
       "      <td>39.000000</td>\n",
       "      <td>41_70</td>\n",
       "    </tr>\n",
       "    <tr>\n",
       "      <th>345</th>\n",
       "      <td>usa</td>\n",
       "      <td>ios</td>\n",
       "      <td>male</td>\n",
       "      <td>53</td>\n",
       "      <td>34.000000</td>\n",
       "      <td>41_70</td>\n",
       "    </tr>\n",
       "    <tr>\n",
       "      <th>346</th>\n",
       "      <td>usa</td>\n",
       "      <td>ios</td>\n",
       "      <td>male</td>\n",
       "      <td>55</td>\n",
       "      <td>29.000000</td>\n",
       "      <td>41_70</td>\n",
       "    </tr>\n",
       "    <tr>\n",
       "      <th>347</th>\n",
       "      <td>usa</td>\n",
       "      <td>ios</td>\n",
       "      <td>male</td>\n",
       "      <td>59</td>\n",
       "      <td>46.500000</td>\n",
       "      <td>41_70</td>\n",
       "    </tr>\n",
       "  </tbody>\n",
       "</table>\n",
       "<p>348 rows × 6 columns</p>\n",
       "</div>"
      ],
      "text/plain": [
       "    COUNTRY   SOURCE     SEX  AGE      PRICE AGE CAT\n",
       "0       bra  android  female   15  38.714286    0_18\n",
       "1       bra  android  female   16  35.944444    0_18\n",
       "2       bra  android  female   17  35.666667    0_18\n",
       "3       bra  android  female   18  32.255814    0_18\n",
       "4       bra  android  female   19  35.206897   19_23\n",
       "..      ...      ...     ...  ...        ...     ...\n",
       "343     usa      ios    male   42  30.250000   41_70\n",
       "344     usa      ios    male   50  39.000000   41_70\n",
       "345     usa      ios    male   53  34.000000   41_70\n",
       "346     usa      ios    male   55  29.000000   41_70\n",
       "347     usa      ios    male   59  46.500000   41_70\n",
       "\n",
       "[348 rows x 6 columns]"
      ]
     },
     "execution_count": 16,
     "metadata": {},
     "output_type": "execute_result"
    }
   ],
   "source": [
    "#Converted age variable to categorical variable and added to agg_df.\n",
    "agg_df[\"AGE CAT\"] = pd.cut(agg_df.AGE, bins = [0,18,23,30,40,70], labels = [\"0_18\",\"19_23\",\"24_30\",\"31_40\",\"41_70\"])\n",
    "agg_df"
   ]
  },
  {
   "cell_type": "code",
   "execution_count": 17,
   "id": "87193641",
   "metadata": {
    "execution": {
     "iopub.execute_input": "2022-10-27T14:27:07.404649Z",
     "iopub.status.busy": "2022-10-27T14:27:07.404261Z",
     "iopub.status.idle": "2022-10-27T14:27:07.428906Z",
     "shell.execute_reply": "2022-10-27T14:27:07.428057Z"
    },
    "papermill": {
     "duration": 0.039213,
     "end_time": "2022-10-27T14:27:07.431114",
     "exception": false,
     "start_time": "2022-10-27T14:27:07.391901",
     "status": "completed"
    },
    "tags": []
   },
   "outputs": [
    {
     "data": {
      "text/html": [
       "<div>\n",
       "<style scoped>\n",
       "    .dataframe tbody tr th:only-of-type {\n",
       "        vertical-align: middle;\n",
       "    }\n",
       "\n",
       "    .dataframe tbody tr th {\n",
       "        vertical-align: top;\n",
       "    }\n",
       "\n",
       "    .dataframe thead th {\n",
       "        text-align: right;\n",
       "    }\n",
       "</style>\n",
       "<table border=\"1\" class=\"dataframe\">\n",
       "  <thead>\n",
       "    <tr style=\"text-align: right;\">\n",
       "      <th></th>\n",
       "      <th>COUNTRY</th>\n",
       "      <th>SOURCE</th>\n",
       "      <th>SEX</th>\n",
       "      <th>AGE</th>\n",
       "      <th>PRICE</th>\n",
       "      <th>AGE CAT</th>\n",
       "      <th>customer_level_based</th>\n",
       "    </tr>\n",
       "  </thead>\n",
       "  <tbody>\n",
       "    <tr>\n",
       "      <th>0</th>\n",
       "      <td>bra</td>\n",
       "      <td>android</td>\n",
       "      <td>female</td>\n",
       "      <td>15</td>\n",
       "      <td>38.714286</td>\n",
       "      <td>0_18</td>\n",
       "      <td>BRA_ANDROID_FEMALE_0_18</td>\n",
       "    </tr>\n",
       "    <tr>\n",
       "      <th>1</th>\n",
       "      <td>bra</td>\n",
       "      <td>android</td>\n",
       "      <td>female</td>\n",
       "      <td>16</td>\n",
       "      <td>35.944444</td>\n",
       "      <td>0_18</td>\n",
       "      <td>BRA_ANDROID_FEMALE_0_18</td>\n",
       "    </tr>\n",
       "    <tr>\n",
       "      <th>2</th>\n",
       "      <td>bra</td>\n",
       "      <td>android</td>\n",
       "      <td>female</td>\n",
       "      <td>17</td>\n",
       "      <td>35.666667</td>\n",
       "      <td>0_18</td>\n",
       "      <td>BRA_ANDROID_FEMALE_0_18</td>\n",
       "    </tr>\n",
       "    <tr>\n",
       "      <th>3</th>\n",
       "      <td>bra</td>\n",
       "      <td>android</td>\n",
       "      <td>female</td>\n",
       "      <td>18</td>\n",
       "      <td>32.255814</td>\n",
       "      <td>0_18</td>\n",
       "      <td>BRA_ANDROID_FEMALE_0_18</td>\n",
       "    </tr>\n",
       "    <tr>\n",
       "      <th>4</th>\n",
       "      <td>bra</td>\n",
       "      <td>android</td>\n",
       "      <td>female</td>\n",
       "      <td>19</td>\n",
       "      <td>35.206897</td>\n",
       "      <td>19_23</td>\n",
       "      <td>BRA_ANDROID_FEMALE_19_23</td>\n",
       "    </tr>\n",
       "    <tr>\n",
       "      <th>...</th>\n",
       "      <td>...</td>\n",
       "      <td>...</td>\n",
       "      <td>...</td>\n",
       "      <td>...</td>\n",
       "      <td>...</td>\n",
       "      <td>...</td>\n",
       "      <td>...</td>\n",
       "    </tr>\n",
       "    <tr>\n",
       "      <th>343</th>\n",
       "      <td>usa</td>\n",
       "      <td>ios</td>\n",
       "      <td>male</td>\n",
       "      <td>42</td>\n",
       "      <td>30.250000</td>\n",
       "      <td>41_70</td>\n",
       "      <td>USA_IOS_MALE_41_70</td>\n",
       "    </tr>\n",
       "    <tr>\n",
       "      <th>344</th>\n",
       "      <td>usa</td>\n",
       "      <td>ios</td>\n",
       "      <td>male</td>\n",
       "      <td>50</td>\n",
       "      <td>39.000000</td>\n",
       "      <td>41_70</td>\n",
       "      <td>USA_IOS_MALE_41_70</td>\n",
       "    </tr>\n",
       "    <tr>\n",
       "      <th>345</th>\n",
       "      <td>usa</td>\n",
       "      <td>ios</td>\n",
       "      <td>male</td>\n",
       "      <td>53</td>\n",
       "      <td>34.000000</td>\n",
       "      <td>41_70</td>\n",
       "      <td>USA_IOS_MALE_41_70</td>\n",
       "    </tr>\n",
       "    <tr>\n",
       "      <th>346</th>\n",
       "      <td>usa</td>\n",
       "      <td>ios</td>\n",
       "      <td>male</td>\n",
       "      <td>55</td>\n",
       "      <td>29.000000</td>\n",
       "      <td>41_70</td>\n",
       "      <td>USA_IOS_MALE_41_70</td>\n",
       "    </tr>\n",
       "    <tr>\n",
       "      <th>347</th>\n",
       "      <td>usa</td>\n",
       "      <td>ios</td>\n",
       "      <td>male</td>\n",
       "      <td>59</td>\n",
       "      <td>46.500000</td>\n",
       "      <td>41_70</td>\n",
       "      <td>USA_IOS_MALE_41_70</td>\n",
       "    </tr>\n",
       "  </tbody>\n",
       "</table>\n",
       "<p>348 rows × 7 columns</p>\n",
       "</div>"
      ],
      "text/plain": [
       "    COUNTRY   SOURCE     SEX  AGE      PRICE AGE CAT      customer_level_based\n",
       "0       bra  android  female   15  38.714286    0_18   BRA_ANDROID_FEMALE_0_18\n",
       "1       bra  android  female   16  35.944444    0_18   BRA_ANDROID_FEMALE_0_18\n",
       "2       bra  android  female   17  35.666667    0_18   BRA_ANDROID_FEMALE_0_18\n",
       "3       bra  android  female   18  32.255814    0_18   BRA_ANDROID_FEMALE_0_18\n",
       "4       bra  android  female   19  35.206897   19_23  BRA_ANDROID_FEMALE_19_23\n",
       "..      ...      ...     ...  ...        ...     ...                       ...\n",
       "343     usa      ios    male   42  30.250000   41_70        USA_IOS_MALE_41_70\n",
       "344     usa      ios    male   50  39.000000   41_70        USA_IOS_MALE_41_70\n",
       "345     usa      ios    male   53  34.000000   41_70        USA_IOS_MALE_41_70\n",
       "346     usa      ios    male   55  29.000000   41_70        USA_IOS_MALE_41_70\n",
       "347     usa      ios    male   59  46.500000   41_70        USA_IOS_MALE_41_70\n",
       "\n",
       "[348 rows x 7 columns]"
      ]
     },
     "execution_count": 17,
     "metadata": {},
     "output_type": "execute_result"
    }
   ],
   "source": [
    "#\n",
    "categorical_types =[col for col in agg_df.columns if agg_df[col].dtype.name in [\"category\",\"object\"]]\n",
    "agg_df[\"customer_level_based\"] = agg_df[categorical_types].apply(\"_\".join,axis=1).str.upper()\n",
    "agg_df"
   ]
  },
  {
   "cell_type": "code",
   "execution_count": 18,
   "id": "2dbabd4d",
   "metadata": {
    "execution": {
     "iopub.execute_input": "2022-10-27T14:27:07.451113Z",
     "iopub.status.busy": "2022-10-27T14:27:07.450078Z",
     "iopub.status.idle": "2022-10-27T14:27:07.467403Z",
     "shell.execute_reply": "2022-10-27T14:27:07.465918Z"
    },
    "papermill": {
     "duration": 0.029688,
     "end_time": "2022-10-27T14:27:07.469657",
     "exception": false,
     "start_time": "2022-10-27T14:27:07.439969",
     "status": "completed"
    },
    "tags": []
   },
   "outputs": [
    {
     "data": {
      "text/html": [
       "<div>\n",
       "<style scoped>\n",
       "    .dataframe tbody tr th:only-of-type {\n",
       "        vertical-align: middle;\n",
       "    }\n",
       "\n",
       "    .dataframe tbody tr th {\n",
       "        vertical-align: top;\n",
       "    }\n",
       "\n",
       "    .dataframe thead tr th {\n",
       "        text-align: left;\n",
       "    }\n",
       "\n",
       "    .dataframe thead tr:last-of-type th {\n",
       "        text-align: right;\n",
       "    }\n",
       "</style>\n",
       "<table border=\"1\" class=\"dataframe\">\n",
       "  <thead>\n",
       "    <tr>\n",
       "      <th></th>\n",
       "      <th colspan=\"2\" halign=\"left\">AGE</th>\n",
       "    </tr>\n",
       "    <tr>\n",
       "      <th></th>\n",
       "      <th>min</th>\n",
       "      <th>max</th>\n",
       "    </tr>\n",
       "    <tr>\n",
       "      <th>AGE CAT</th>\n",
       "      <th></th>\n",
       "      <th></th>\n",
       "    </tr>\n",
       "  </thead>\n",
       "  <tbody>\n",
       "    <tr>\n",
       "      <th>0_18</th>\n",
       "      <td>15</td>\n",
       "      <td>18</td>\n",
       "    </tr>\n",
       "    <tr>\n",
       "      <th>19_23</th>\n",
       "      <td>19</td>\n",
       "      <td>23</td>\n",
       "    </tr>\n",
       "    <tr>\n",
       "      <th>24_30</th>\n",
       "      <td>24</td>\n",
       "      <td>30</td>\n",
       "    </tr>\n",
       "    <tr>\n",
       "      <th>31_40</th>\n",
       "      <td>31</td>\n",
       "      <td>40</td>\n",
       "    </tr>\n",
       "    <tr>\n",
       "      <th>41_70</th>\n",
       "      <td>41</td>\n",
       "      <td>66</td>\n",
       "    </tr>\n",
       "  </tbody>\n",
       "</table>\n",
       "</div>"
      ],
      "text/plain": [
       "        AGE    \n",
       "        min max\n",
       "AGE CAT        \n",
       "0_18     15  18\n",
       "19_23    19  23\n",
       "24_30    24  30\n",
       "31_40    31  40\n",
       "41_70    41  66"
      ]
     },
     "execution_count": 18,
     "metadata": {},
     "output_type": "execute_result"
    }
   ],
   "source": [
    "## To check the labeling consistency following code can be implemented\n",
    "agg_df.groupby(\"AGE CAT\").agg({\"AGE\":['min','max']})"
   ]
  },
  {
   "cell_type": "code",
   "execution_count": 19,
   "id": "a9064391",
   "metadata": {
    "execution": {
     "iopub.execute_input": "2022-10-27T14:27:07.491104Z",
     "iopub.status.busy": "2022-10-27T14:27:07.490370Z",
     "iopub.status.idle": "2022-10-27T14:27:07.504091Z",
     "shell.execute_reply": "2022-10-27T14:27:07.503297Z"
    },
    "papermill": {
     "duration": 0.027256,
     "end_time": "2022-10-27T14:27:07.505822",
     "exception": false,
     "start_time": "2022-10-27T14:27:07.478566",
     "status": "completed"
    },
    "tags": []
   },
   "outputs": [
    {
     "data": {
      "text/html": [
       "<div>\n",
       "<style scoped>\n",
       "    .dataframe tbody tr th:only-of-type {\n",
       "        vertical-align: middle;\n",
       "    }\n",
       "\n",
       "    .dataframe tbody tr th {\n",
       "        vertical-align: top;\n",
       "    }\n",
       "\n",
       "    .dataframe thead th {\n",
       "        text-align: right;\n",
       "    }\n",
       "</style>\n",
       "<table border=\"1\" class=\"dataframe\">\n",
       "  <thead>\n",
       "    <tr style=\"text-align: right;\">\n",
       "      <th></th>\n",
       "      <th>customer_level_based</th>\n",
       "      <th>PRICE</th>\n",
       "    </tr>\n",
       "  </thead>\n",
       "  <tbody>\n",
       "    <tr>\n",
       "      <th>0</th>\n",
       "      <td>BRA_ANDROID_FEMALE_0_18</td>\n",
       "      <td>35.645303</td>\n",
       "    </tr>\n",
       "    <tr>\n",
       "      <th>1</th>\n",
       "      <td>BRA_ANDROID_FEMALE_19_23</td>\n",
       "      <td>34.077340</td>\n",
       "    </tr>\n",
       "    <tr>\n",
       "      <th>2</th>\n",
       "      <td>BRA_ANDROID_FEMALE_24_30</td>\n",
       "      <td>33.863946</td>\n",
       "    </tr>\n",
       "    <tr>\n",
       "      <th>3</th>\n",
       "      <td>BRA_ANDROID_FEMALE_31_40</td>\n",
       "      <td>34.898326</td>\n",
       "    </tr>\n",
       "    <tr>\n",
       "      <th>4</th>\n",
       "      <td>BRA_ANDROID_FEMALE_41_70</td>\n",
       "      <td>36.737179</td>\n",
       "    </tr>\n",
       "    <tr>\n",
       "      <th>...</th>\n",
       "      <td>...</td>\n",
       "      <td>...</td>\n",
       "    </tr>\n",
       "    <tr>\n",
       "      <th>104</th>\n",
       "      <td>USA_IOS_MALE_0_18</td>\n",
       "      <td>33.983495</td>\n",
       "    </tr>\n",
       "    <tr>\n",
       "      <th>105</th>\n",
       "      <td>USA_IOS_MALE_19_23</td>\n",
       "      <td>34.901872</td>\n",
       "    </tr>\n",
       "    <tr>\n",
       "      <th>106</th>\n",
       "      <td>USA_IOS_MALE_24_30</td>\n",
       "      <td>34.838143</td>\n",
       "    </tr>\n",
       "    <tr>\n",
       "      <th>107</th>\n",
       "      <td>USA_IOS_MALE_31_40</td>\n",
       "      <td>36.206324</td>\n",
       "    </tr>\n",
       "    <tr>\n",
       "      <th>108</th>\n",
       "      <td>USA_IOS_MALE_41_70</td>\n",
       "      <td>35.750000</td>\n",
       "    </tr>\n",
       "  </tbody>\n",
       "</table>\n",
       "<p>109 rows × 2 columns</p>\n",
       "</div>"
      ],
      "text/plain": [
       "         customer_level_based      PRICE\n",
       "0     BRA_ANDROID_FEMALE_0_18  35.645303\n",
       "1    BRA_ANDROID_FEMALE_19_23  34.077340\n",
       "2    BRA_ANDROID_FEMALE_24_30  33.863946\n",
       "3    BRA_ANDROID_FEMALE_31_40  34.898326\n",
       "4    BRA_ANDROID_FEMALE_41_70  36.737179\n",
       "..                        ...        ...\n",
       "104         USA_IOS_MALE_0_18  33.983495\n",
       "105        USA_IOS_MALE_19_23  34.901872\n",
       "106        USA_IOS_MALE_24_30  34.838143\n",
       "107        USA_IOS_MALE_31_40  36.206324\n",
       "108        USA_IOS_MALE_41_70  35.750000\n",
       "\n",
       "[109 rows x 2 columns]"
      ]
     },
     "execution_count": 19,
     "metadata": {},
     "output_type": "execute_result"
    }
   ],
   "source": [
    "#Singularization of customers was done.\n",
    "agg_df = agg_df.groupby(\"customer_level_based\").agg({\"PRICE\" : \"mean\"}).reset_index()\n",
    "agg_df"
   ]
  },
  {
   "cell_type": "code",
   "execution_count": 20,
   "id": "925e7581",
   "metadata": {
    "execution": {
     "iopub.execute_input": "2022-10-27T14:27:07.528639Z",
     "iopub.status.busy": "2022-10-27T14:27:07.528060Z",
     "iopub.status.idle": "2022-10-27T14:27:07.548014Z",
     "shell.execute_reply": "2022-10-27T14:27:07.546997Z"
    },
    "papermill": {
     "duration": 0.035135,
     "end_time": "2022-10-27T14:27:07.550288",
     "exception": false,
     "start_time": "2022-10-27T14:27:07.515153",
     "status": "completed"
    },
    "tags": []
   },
   "outputs": [
    {
     "data": {
      "text/html": [
       "<div>\n",
       "<style scoped>\n",
       "    .dataframe tbody tr th:only-of-type {\n",
       "        vertical-align: middle;\n",
       "    }\n",
       "\n",
       "    .dataframe tbody tr th {\n",
       "        vertical-align: top;\n",
       "    }\n",
       "\n",
       "    .dataframe thead th {\n",
       "        text-align: right;\n",
       "    }\n",
       "</style>\n",
       "<table border=\"1\" class=\"dataframe\">\n",
       "  <thead>\n",
       "    <tr style=\"text-align: right;\">\n",
       "      <th></th>\n",
       "      <th>customer_level_based</th>\n",
       "      <th>PRICE</th>\n",
       "      <th>segment</th>\n",
       "    </tr>\n",
       "  </thead>\n",
       "  <tbody>\n",
       "    <tr>\n",
       "      <th>0</th>\n",
       "      <td>BRA_ANDROID_FEMALE_0_18</td>\n",
       "      <td>35.645303</td>\n",
       "      <td>B</td>\n",
       "    </tr>\n",
       "    <tr>\n",
       "      <th>1</th>\n",
       "      <td>BRA_ANDROID_FEMALE_19_23</td>\n",
       "      <td>34.077340</td>\n",
       "      <td>C</td>\n",
       "    </tr>\n",
       "    <tr>\n",
       "      <th>2</th>\n",
       "      <td>BRA_ANDROID_FEMALE_24_30</td>\n",
       "      <td>33.863946</td>\n",
       "      <td>C</td>\n",
       "    </tr>\n",
       "    <tr>\n",
       "      <th>3</th>\n",
       "      <td>BRA_ANDROID_FEMALE_31_40</td>\n",
       "      <td>34.898326</td>\n",
       "      <td>B</td>\n",
       "    </tr>\n",
       "    <tr>\n",
       "      <th>4</th>\n",
       "      <td>BRA_ANDROID_FEMALE_41_70</td>\n",
       "      <td>36.737179</td>\n",
       "      <td>A</td>\n",
       "    </tr>\n",
       "    <tr>\n",
       "      <th>...</th>\n",
       "      <td>...</td>\n",
       "      <td>...</td>\n",
       "      <td>...</td>\n",
       "    </tr>\n",
       "    <tr>\n",
       "      <th>104</th>\n",
       "      <td>USA_IOS_MALE_0_18</td>\n",
       "      <td>33.983495</td>\n",
       "      <td>C</td>\n",
       "    </tr>\n",
       "    <tr>\n",
       "      <th>105</th>\n",
       "      <td>USA_IOS_MALE_19_23</td>\n",
       "      <td>34.901872</td>\n",
       "      <td>B</td>\n",
       "    </tr>\n",
       "    <tr>\n",
       "      <th>106</th>\n",
       "      <td>USA_IOS_MALE_24_30</td>\n",
       "      <td>34.838143</td>\n",
       "      <td>B</td>\n",
       "    </tr>\n",
       "    <tr>\n",
       "      <th>107</th>\n",
       "      <td>USA_IOS_MALE_31_40</td>\n",
       "      <td>36.206324</td>\n",
       "      <td>A</td>\n",
       "    </tr>\n",
       "    <tr>\n",
       "      <th>108</th>\n",
       "      <td>USA_IOS_MALE_41_70</td>\n",
       "      <td>35.750000</td>\n",
       "      <td>B</td>\n",
       "    </tr>\n",
       "  </tbody>\n",
       "</table>\n",
       "<p>109 rows × 3 columns</p>\n",
       "</div>"
      ],
      "text/plain": [
       "         customer_level_based      PRICE segment\n",
       "0     BRA_ANDROID_FEMALE_0_18  35.645303       B\n",
       "1    BRA_ANDROID_FEMALE_19_23  34.077340       C\n",
       "2    BRA_ANDROID_FEMALE_24_30  33.863946       C\n",
       "3    BRA_ANDROID_FEMALE_31_40  34.898326       B\n",
       "4    BRA_ANDROID_FEMALE_41_70  36.737179       A\n",
       "..                        ...        ...     ...\n",
       "104         USA_IOS_MALE_0_18  33.983495       C\n",
       "105        USA_IOS_MALE_19_23  34.901872       B\n",
       "106        USA_IOS_MALE_24_30  34.838143       B\n",
       "107        USA_IOS_MALE_31_40  36.206324       A\n",
       "108        USA_IOS_MALE_41_70  35.750000       B\n",
       "\n",
       "[109 rows x 3 columns]"
      ]
     },
     "execution_count": 20,
     "metadata": {},
     "output_type": "execute_result"
    }
   ],
   "source": [
    "# New customer variable is grouped into 4 segments and assigned to a new variable called \"SEGMENT\n",
    "agg_df[\"segment\"] = pd.qcut(agg_df.PRICE, 4, labels = [\"D\",\"C\",\"B\",\"A\"])\n",
    "agg_df"
   ]
  },
  {
   "cell_type": "code",
   "execution_count": 21,
   "id": "bb4d8094",
   "metadata": {
    "execution": {
     "iopub.execute_input": "2022-10-27T14:27:07.575197Z",
     "iopub.status.busy": "2022-10-27T14:27:07.574026Z",
     "iopub.status.idle": "2022-10-27T14:27:07.589902Z",
     "shell.execute_reply": "2022-10-27T14:27:07.588498Z"
    },
    "papermill": {
     "duration": 0.030481,
     "end_time": "2022-10-27T14:27:07.592687",
     "exception": false,
     "start_time": "2022-10-27T14:27:07.562206",
     "status": "completed"
    },
    "tags": []
   },
   "outputs": [
    {
     "data": {
      "text/html": [
       "<div>\n",
       "<style scoped>\n",
       "    .dataframe tbody tr th:only-of-type {\n",
       "        vertical-align: middle;\n",
       "    }\n",
       "\n",
       "    .dataframe tbody tr th {\n",
       "        vertical-align: top;\n",
       "    }\n",
       "\n",
       "    .dataframe thead tr th {\n",
       "        text-align: left;\n",
       "    }\n",
       "\n",
       "    .dataframe thead tr:last-of-type th {\n",
       "        text-align: right;\n",
       "    }\n",
       "</style>\n",
       "<table border=\"1\" class=\"dataframe\">\n",
       "  <thead>\n",
       "    <tr>\n",
       "      <th></th>\n",
       "      <th colspan=\"3\" halign=\"left\">PRICE</th>\n",
       "    </tr>\n",
       "    <tr>\n",
       "      <th></th>\n",
       "      <th>mean</th>\n",
       "      <th>sum</th>\n",
       "      <th>max</th>\n",
       "    </tr>\n",
       "    <tr>\n",
       "      <th>segment</th>\n",
       "      <th></th>\n",
       "      <th></th>\n",
       "      <th></th>\n",
       "    </tr>\n",
       "  </thead>\n",
       "  <tbody>\n",
       "    <tr>\n",
       "      <th>D</th>\n",
       "      <td>29.206780</td>\n",
       "      <td>817.789833</td>\n",
       "      <td>32.333333</td>\n",
       "    </tr>\n",
       "    <tr>\n",
       "      <th>C</th>\n",
       "      <td>33.509674</td>\n",
       "      <td>904.761209</td>\n",
       "      <td>34.077340</td>\n",
       "    </tr>\n",
       "    <tr>\n",
       "      <th>B</th>\n",
       "      <td>34.999645</td>\n",
       "      <td>944.990411</td>\n",
       "      <td>36.000000</td>\n",
       "    </tr>\n",
       "    <tr>\n",
       "      <th>A</th>\n",
       "      <td>38.691234</td>\n",
       "      <td>1044.663328</td>\n",
       "      <td>45.428571</td>\n",
       "    </tr>\n",
       "  </tbody>\n",
       "</table>\n",
       "</div>"
      ],
      "text/plain": [
       "             PRICE                        \n",
       "              mean          sum        max\n",
       "segment                                   \n",
       "D        29.206780   817.789833  32.333333\n",
       "C        33.509674   904.761209  34.077340\n",
       "B        34.999645   944.990411  36.000000\n",
       "A        38.691234  1044.663328  45.428571"
      ]
     },
     "execution_count": 21,
     "metadata": {},
     "output_type": "execute_result"
    }
   ],
   "source": [
    "# The segments are shown by their mean, max, sum values \n",
    "agg_df.groupby(\"segment\").agg({\"PRICE\": [\"mean\",\"sum\",\"max\"]})"
   ]
  },
  {
   "cell_type": "markdown",
   "id": "1b2a6fda",
   "metadata": {
    "papermill": {
     "duration": 0.00903,
     "end_time": "2022-10-27T14:27:07.611850",
     "exception": false,
     "start_time": "2022-10-27T14:27:07.602820",
     "status": "completed"
    },
    "tags": []
   },
   "source": [
    "# 3.LEAD CALCULATION"
   ]
  },
  {
   "cell_type": "markdown",
   "id": "8fd61dc5",
   "metadata": {
    "papermill": {
     "duration": 0.008991,
     "end_time": "2022-10-27T14:27:07.630228",
     "exception": false,
     "start_time": "2022-10-27T14:27:07.621237",
     "status": "completed"
    },
    "tags": []
   },
   "source": [
    "What is the segment of a 33 year old Turkish woman who uses Android and how much profit the company gains from her on average?"
   ]
  },
  {
   "cell_type": "code",
   "execution_count": 22,
   "id": "44460e94",
   "metadata": {
    "execution": {
     "iopub.execute_input": "2022-10-27T14:27:07.651502Z",
     "iopub.status.busy": "2022-10-27T14:27:07.650243Z",
     "iopub.status.idle": "2022-10-27T14:27:07.663189Z",
     "shell.execute_reply": "2022-10-27T14:27:07.662008Z"
    },
    "papermill": {
     "duration": 0.026271,
     "end_time": "2022-10-27T14:27:07.665930",
     "exception": false,
     "start_time": "2022-10-27T14:27:07.639659",
     "status": "completed"
    },
    "tags": []
   },
   "outputs": [
    {
     "data": {
      "text/html": [
       "<div>\n",
       "<style scoped>\n",
       "    .dataframe tbody tr th:only-of-type {\n",
       "        vertical-align: middle;\n",
       "    }\n",
       "\n",
       "    .dataframe tbody tr th {\n",
       "        vertical-align: top;\n",
       "    }\n",
       "\n",
       "    .dataframe thead th {\n",
       "        text-align: right;\n",
       "    }\n",
       "</style>\n",
       "<table border=\"1\" class=\"dataframe\">\n",
       "  <thead>\n",
       "    <tr style=\"text-align: right;\">\n",
       "      <th></th>\n",
       "      <th>customer_level_based</th>\n",
       "      <th>PRICE</th>\n",
       "      <th>segment</th>\n",
       "    </tr>\n",
       "  </thead>\n",
       "  <tbody>\n",
       "    <tr>\n",
       "      <th>72</th>\n",
       "      <td>TUR_ANDROID_FEMALE_31_40</td>\n",
       "      <td>41.833333</td>\n",
       "      <td>A</td>\n",
       "    </tr>\n",
       "  </tbody>\n",
       "</table>\n",
       "</div>"
      ],
      "text/plain": [
       "        customer_level_based      PRICE segment\n",
       "72  TUR_ANDROID_FEMALE_31_40  41.833333       A"
      ]
     },
     "execution_count": 22,
     "metadata": {},
     "output_type": "execute_result"
    }
   ],
   "source": [
    "new_user=\"TUR_ANDROID_FEMALE_31_40\"\n",
    "agg_df[agg_df[\"customer_level_based\"] == new_user]"
   ]
  },
  {
   "cell_type": "markdown",
   "id": "d726d9ed",
   "metadata": {
    "papermill": {
     "duration": 0.010456,
     "end_time": "2022-10-27T14:27:07.686802",
     "exception": false,
     "start_time": "2022-10-27T14:27:07.676346",
     "status": "completed"
    },
    "tags": []
   },
   "source": [
    "What is the segment of a 35 year old French woman who uses iOS and how much profit the company gains from her on average?"
   ]
  },
  {
   "cell_type": "code",
   "execution_count": 23,
   "id": "e165391b",
   "metadata": {
    "execution": {
     "iopub.execute_input": "2022-10-27T14:27:07.707875Z",
     "iopub.status.busy": "2022-10-27T14:27:07.707464Z",
     "iopub.status.idle": "2022-10-27T14:27:07.718850Z",
     "shell.execute_reply": "2022-10-27T14:27:07.717575Z"
    },
    "papermill": {
     "duration": 0.024288,
     "end_time": "2022-10-27T14:27:07.720973",
     "exception": false,
     "start_time": "2022-10-27T14:27:07.696685",
     "status": "completed"
    },
    "tags": []
   },
   "outputs": [
    {
     "data": {
      "text/html": [
       "<div>\n",
       "<style scoped>\n",
       "    .dataframe tbody tr th:only-of-type {\n",
       "        vertical-align: middle;\n",
       "    }\n",
       "\n",
       "    .dataframe tbody tr th {\n",
       "        vertical-align: top;\n",
       "    }\n",
       "\n",
       "    .dataframe thead th {\n",
       "        text-align: right;\n",
       "    }\n",
       "</style>\n",
       "<table border=\"1\" class=\"dataframe\">\n",
       "  <thead>\n",
       "    <tr style=\"text-align: right;\">\n",
       "      <th></th>\n",
       "      <th>customer_level_based</th>\n",
       "      <th>PRICE</th>\n",
       "      <th>segment</th>\n",
       "    </tr>\n",
       "  </thead>\n",
       "  <tbody>\n",
       "    <tr>\n",
       "      <th>63</th>\n",
       "      <td>FRA_IOS_FEMALE_31_40</td>\n",
       "      <td>32.818182</td>\n",
       "      <td>C</td>\n",
       "    </tr>\n",
       "  </tbody>\n",
       "</table>\n",
       "</div>"
      ],
      "text/plain": [
       "    customer_level_based      PRICE segment\n",
       "63  FRA_IOS_FEMALE_31_40  32.818182       C"
      ]
     },
     "execution_count": 23,
     "metadata": {},
     "output_type": "execute_result"
    }
   ],
   "source": [
    "new_user=\"FRA_IOS_FEMALE_31_40\"\n",
    "agg_df[agg_df[\"customer_level_based\"] == new_user]"
   ]
  }
 ],
 "metadata": {
  "kernelspec": {
   "display_name": "Python 3",
   "language": "python",
   "name": "python3"
  },
  "language_info": {
   "codemirror_mode": {
    "name": "ipython",
    "version": 3
   },
   "file_extension": ".py",
   "mimetype": "text/x-python",
   "name": "python",
   "nbconvert_exporter": "python",
   "pygments_lexer": "ipython3",
   "version": "3.7.12"
  },
  "papermill": {
   "default_parameters": {},
   "duration": 10.456207,
   "end_time": "2022-10-27T14:27:08.451619",
   "environment_variables": {},
   "exception": null,
   "input_path": "__notebook__.ipynb",
   "output_path": "__notebook__.ipynb",
   "parameters": {},
   "start_time": "2022-10-27T14:26:57.995412",
   "version": "2.3.4"
  }
 },
 "nbformat": 4,
 "nbformat_minor": 5
}
